{
 "cells": [
  {
   "cell_type": "markdown",
   "id": "0318463f-81db-4a25-a489-a968fb6304bf",
   "metadata": {},
   "source": [
    "# SISTEMA ZERO-SHOT\n",
    "Este sistema detecta TTPs de desinformación de DISARM en una noticia de entrada sin tener en cuenta contexto relevante..\n",
    "\n",
    "Este código carga el modelo de Mistral 7B Instruct y las TTPs que se pueden detectar, y ejecuta el LLM con una noticia para generar una respuesta con los patrones identificados y una justificación.\n",
    "\n",
    "Se deben haber instalado las dependencias necesarias (requirements.txt) y disponer de un token de HuggingFace."
   ]
  },
  {
   "cell_type": "code",
   "execution_count": 1,
   "id": "e1af63f2-9c25-4e87-a145-6ca1afb9b071",
   "metadata": {},
   "outputs": [],
   "source": [
    "import json\n",
    "\n",
    "# Cargar las TTPs de DISARM que se pueden detectar\n",
    "def cargar_ttps(path=\"DISARMfiltrado.json\"):\n",
    "    with open(path, \"r\", encoding=\"utf-8\") as f:\n",
    "        data = json.load(f)\n",
    "\n",
    "    bloques = []\n",
    "    for obj in data[\"objects\"]:\n",
    "        if obj[\"type\"] == \"tactic\":\n",
    "            tactic_name = obj[\"name\"]\n",
    "            for tech in obj.get(\"techniques\", []):\n",
    "                id_ = tech[\"id\"]\n",
    "                name = tech[\"name\"]\n",
    "                desc = tech[\"description\"].strip()\n",
    "                bloques.append(f\"Technique: {id_} - {name} (Tactic: {tactic_name})\\nTechnique Description: {desc}\")\n",
    "    return \"\\n\\n\".join(bloques)"
   ]
  },
  {
   "cell_type": "code",
   "execution_count": 1,
   "id": "a72768f1-d291-4acf-b14a-911e45e19f22",
   "metadata": {
    "tags": []
   },
   "outputs": [
    {
     "data": {
      "application/vnd.jupyter.widget-view+json": {
       "model_id": "4d59ba5c907a46d4a7c787f5bb8b2e51",
       "version_major": 2,
       "version_minor": 0
      },
      "text/plain": [
       "Loading checkpoint shards:   0%|          | 0/3 [00:00<?, ?it/s]"
      ]
     },
     "metadata": {},
     "output_type": "display_data"
    }
   ],
   "source": [
    "from huggingface_hub import login\n",
    "\n",
    "# Iniciar sesión en HuggingFace para acceder al modelo\n",
    "login(token=\"\")"
   ]
  },
  {
   "cell_type": "code",
   "execution_count": null,
   "id": "fa25115d-7f89-458c-a91b-58ed1e0893ea",
   "metadata": {},
   "outputs": [],
   "source": [
    "from transformers import AutoModelForCausalLM, AutoTokenizer, pipeline\n",
    "\n",
    "# Cargar el modelo Mistral\n",
    "model_name = \"mistralai/Mistral-7B-Instruct-v0.3\"\n",
    "tokenizer = AutoTokenizer.from_pretrained(model_name)\n",
    "model = AutoModelForCausalLM.from_pretrained(model_name)"
   ]
  },
  {
   "cell_type": "code",
   "execution_count": 3,
   "id": "9fe4788a-d5df-4021-8d1d-d9a150ebf83e",
   "metadata": {},
   "outputs": [],
   "source": [
    "# Función para construuir el prompt y generar la respuesta\n",
    "def analyse(news_text):\n",
    "    ttps=cargar_ttps()\n",
    "    prompt =  f\"\"\"\n",
    "        You are an expert in communication, disinformation, and discourse analysis. You will now receive one news article to analyze and a list of known manipulation and disinformation techniques (DISARM TTPs).\n",
    "                \n",
    "        Your task is to determine whether the ARTICLE contains any patterns of manipulation or disinformation.\n",
    "        \n",
    "        Use the TTPs section below as the reference list of patterns to detect.\n",
    "                \n",
    "        Return the result **strictly in valid JSON format** with this structure:\n",
    "        \n",
    "        {{\n",
    "            \"ttps_detected\": [string], //TTP names, example: [\"T0015-Create Hashtags and Search Artefacts\"]\n",
    "            \"key_phrases\": [string], //Phrases or evidence from the article that support your findings\n",
    "            \"justification\": string //A concise explanation of your reasoning. Every TTP mentioned in the justification must be listed in the ttps_detected array.\n",
    "        }}\n",
    "                \n",
    "        If no clear technique is detected, respond:\n",
    "                \n",
    "        {{\n",
    "            \"ttps_detected\": [],\n",
    "            \"key_phrases\": [],\n",
    "            \"justification\": \"No clear patterns of manipulation have been detected.\"\n",
    "        }}\n",
    "        \n",
    "                \n",
    "        ARTICLE:\n",
    "        {news_text}\n",
    "        \n",
    "        TTPs (DISARM framework):\n",
    "        {ttps_text}\n",
    "        \n",
    "        RESPONSE:\n",
    "    \"\"\"\n",
    "\n",
    "    inputs = tokenizer(prompt, return_tensors=\"pt\").to(model.device)\n",
    "    output = model.generate(\n",
    "        **inputs,\n",
    "        max_new_tokens=1024,\n",
    "        do_sample=False,\n",
    "        pad_token_id=tokenizer.eos_token_id\n",
    "    )\n",
    "    result = tokenizer.decode(output[0], skip_special_tokens=True)\n",
    "\n",
    "    # Quitar el prompt para quedarnos con la respuesta\n",
    "    return result[len(prompt):].strip()"
   ]
  },
  {
   "cell_type": "code",
   "execution_count": 4,
   "id": "b151ab84-8421-410c-8aa3-7ad5a48c3b29",
   "metadata": {
    "collapsed": true,
    "jupyter": {
     "outputs_hidden": true
    }
   },
   "outputs": [
    {
     "name": "stdout",
     "output_type": "stream",
     "text": [
      "{\n",
      "        \"ttps_detected\": [\"T0075.001 - Discredit Credible Sources\", \"T0022.001 - Amplify Existing Conspiracy Theory Narratives\"],\n",
      "        \"key_phrases\": [\"Leaked Documents Prove Trump Took Laundered Money From Russian Bank\", \"Deutsche Bank also gave Trump four questionable long-term loans\", \"Obviously, this interaction between Trump and Deutsche Bank should raise more than just a few red flags\"],\n",
      "        \"justification\": \"The article presents leaked documents as evidence of Trump taking laundered money from a Russian bank, which is a conspiracy theory not supported by mainstream sources. The article also amplifies this conspiracy theory by stating that Deutsche Bank gave Trump four questionable long-term loans, which is a claim that has been debunked by fact-checkers. The article's phrasing, such as 'Obviously, this interaction between Trump and Deutsche Bank should raise more than just a few red flags', suggests an attempt to discredit credible sources by implying that questioning the article's claims is unreasonable.\"\n",
      "     }\n"
     ]
    }
   ],
   "source": [
    "# NOTICIA QUE SE QUIERE ANALIZAR\n",
    "noticia = \"BUSTED: Leaked Documents Prove Trump Took Laundered Money From Russian Bank. Convincing President Trump to release his tax returns is proving slightly more difficult than we initially anticipated, but that doesn t mean there haven t been any signs of success from taking the longer route. Take, for example, a 98-page document recently released by the United States Office of Government Ethics.The document, available in its entirety here, clearly shows that not only is Donald Trump outright profiting from the presidency, a direct violation of the Emoluments Clause of the United States Constitution but also that he is in debt to several banks, both domestic and foreign.Although shocking news, none of this particularly comes as a surprise, more or less just confirms what most of us already suspected. However, it s when you delve into the details that you discover the true significance of the President s possible under-the-table actions.German-based Deutsche Bank was served with $630 million in penalties back in January for a $10 billion Russian money laundering scheme involving it s Moscow and New York branches among others. Deutsche Bank also gave Trump four questionable long-term  loans,  potentially Russian money that s been handed to Trump, the final loan given just before the commencement of the presidential election and used to help fund the Trump International Hotel that opened in Washington DC last year.Obviously, this interaction between Trump and Deutsche Bank should raise more than just a few red flags, at least confirming that there is a possibility that the Russians laundered money to Trump as he began his campaign and just prior to hiring senior advisors with ties to the Russian government.Furthermore, Deutsche Bank is gaining somewhat of a reputation for their shady business dealings as well. Not only were they caught in the Russian laundering scheme, the bank also struck a $7.2 billion deal with the US government last December to settle claims for toxic mortgages they packaged and sold between 2005 and 2007, as well as paying $2.5 billion in April 2015 to settle charges it conspired to manipulate global interest rate benchmarks.It s interesting, yet not at all surprising, how corrupt people and organizations just seem to gravitate toward each other.\"\n",
    "\n",
    "# RESPUESTA DEL LLM\n",
    "print(analyse(noticia))"
   ]
  }
 ],
 "metadata": {
  "kernelspec": {
   "display_name": "Python 3 (ipykernel)",
   "language": "python",
   "name": "python3"
  },
  "language_info": {
   "codemirror_mode": {
    "name": "ipython",
    "version": 3
   },
   "file_extension": ".py",
   "mimetype": "text/x-python",
   "name": "python",
   "nbconvert_exporter": "python",
   "pygments_lexer": "ipython3",
   "version": "3.11.4"
  }
 },
 "nbformat": 4,
 "nbformat_minor": 5
}
